{
 "cells": [
  {
   "cell_type": "code",
   "execution_count": 1,
   "metadata": {
    "collapsed": true
   },
   "outputs": [],
   "source": [
    "import json\n",
    "import pandas as pd"
   ]
  },
  {
   "cell_type": "code",
   "execution_count": 2,
   "metadata": {
    "collapsed": true
   },
   "outputs": [],
   "source": [
    "with open('geoJson/all_atlases.geojson') as fp:\n",
    "    geojson = json.load(fp)"
   ]
  },
  {
   "cell_type": "code",
   "execution_count": 15,
   "metadata": {
    "collapsed": false
   },
   "outputs": [],
   "source": [
    "urns = {\n",
    "    \"blaeu\":\"urn-3:FHCL:5347094\",\n",
    "    \"colom\":\"urn-3:FHCL:6750170\",\n",
    "    \"dewit\":\"\",\n",
    "    \"dudleyV1\":\"urn-3:FHCL:9695784\",\n",
    "    \"dudleyV3\":\"urn-3:FHCL:9695784\",\n",
    "    \"goos\":\"urn-3:FHCL:5362897\",\n",
    "    \"keulenV1\":\"urn-3:FHCL:6712457\",\n",
    "    \"keulenV2\":\"urn-3:FHCL:6712457\",\n",
    "    \"renard\":\"urn-3:FHCL:865460\",\n",
    "    \"waghenaer\":\"urn-3:FHCL:8645097\"\n",
    "}"
   ]
  },
  {
   "cell_type": "code",
   "execution_count": 16,
   "metadata": {
    "collapsed": false
   },
   "outputs": [],
   "source": [
    "for f in geojson['features']:\n",
    "    f['properties']['atlasURN'] = urns[f['properties']['collection']]"
   ]
  },
  {
   "cell_type": "code",
   "execution_count": 17,
   "metadata": {
    "collapsed": false
   },
   "outputs": [
    {
     "data": {
      "text/plain": [
       "{'geometry': {'coordinates': [[[0.2125836346515833, 60.029404824274394],\n",
       "    [0.2125836346515833, 64.40985482427439],\n",
       "    [12.188133634651585, 64.40985482427439],\n",
       "    [12.188133634651585, 60.029404824274394]]],\n",
       "  'type': 'Polygon'},\n",
       " 'id': None,\n",
       " 'properties': {'DRS_ID': 36673588,\n",
       "  'HOLLIS': '001644159',\n",
       "  'MAP': None,\n",
       "  'OwnerSuppliedName': '001644159_0287',\n",
       "  'SEQUENCE': 287,\n",
       "  'UNIQUE_ID': '36673588',\n",
       "  'URN': 'urn-3:FHCL:5347381',\n",
       "  'atlasURN': 'urn-3:FHCL:5347094',\n",
       "  'collection': 'blaeu',\n",
       "  'degree_area': 52.45829799749996,\n",
       "  'fname': '36673588_geotiff.tif',\n",
       "  'geographic_scope': 'Western Coast of Norway',\n",
       "  'lat_extent': 4.380449999999996,\n",
       "  'lng_extent': 11.975550000000002,\n",
       "  'maxLat': 64.40985482427439,\n",
       "  'maxLong': 12.188133634651585,\n",
       "  'maxZoom': 9,\n",
       "  'minLat': 60.029404824274394,\n",
       "  'minLong': 0.2125836346515833,\n",
       "  'minZoom': 4,\n",
       "  'pds_link': '\\n<p><a href=\"http://pds.lib.harvard.edu/pds/view/36673588?n=287\">View map in Page Delivery Service</a></p>\\n',\n",
       "  'pretty_collection': 'Blaeu',\n",
       "  'title': 'Blaeu | Western Coast of Norway'},\n",
       " 'type': 'Feature'}"
      ]
     },
     "execution_count": 17,
     "metadata": {},
     "output_type": "execute_result"
    }
   ],
   "source": [
    "geojson['features'][50]"
   ]
  },
  {
   "cell_type": "code",
   "execution_count": 19,
   "metadata": {
    "collapsed": false
   },
   "outputs": [],
   "source": [
    "with open(\"geoJson/all_atlases.geojson\",\"w\") as fp:\n",
    "    json.dump(geojson,fp,indent=2,sort_keys=True)"
   ]
  }
 ],
 "metadata": {
  "kernelspec": {
   "display_name": "Python 3",
   "language": "python",
   "name": "python3"
  },
  "language_info": {
   "codemirror_mode": {
    "name": "ipython",
    "version": 3
   },
   "file_extension": ".py",
   "mimetype": "text/x-python",
   "name": "python",
   "nbconvert_exporter": "python",
   "pygments_lexer": "ipython3",
   "version": "3.5.1"
  }
 },
 "nbformat": 4,
 "nbformat_minor": 0
}
