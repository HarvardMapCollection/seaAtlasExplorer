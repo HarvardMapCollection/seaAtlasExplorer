{
 "cells": [
  {
   "cell_type": "markdown",
   "metadata": {},
   "source": [
    "Aggregation and enrichment\n",
    "==============\n",
    "This notebook puts all of the geojson files in the `geoJson` directory together in a single feature collection.  \n",
    "While it's doing that, it's also assigning new properties to the individual features.  \n",
    "These features include:  \n",
    "* collection: Collection name (for the book it's part of)\n",
    "* lat_extent: number of degrees that the map is \"tall\".\n",
    "* lng_extent: number of degrees that the map is \"wide\"."
   ]
  },
  {
   "cell_type": "code",
   "execution_count": 33,
   "metadata": {
    "collapsed": true
   },
   "outputs": [],
   "source": [
    "import os, json"
   ]
  },
  {
   "cell_type": "code",
   "execution_count": 34,
   "metadata": {
    "collapsed": false
   },
   "outputs": [],
   "source": [
    "fileList = os.listdir(\"geoJson/\")\n",
    "if \"all_atlases.geojson\" in fileList:\n",
    "    fileList.pop(fileList.index(\"all_atlases.geojson\"))"
   ]
  },
  {
   "cell_type": "code",
   "execution_count": 35,
   "metadata": {
    "collapsed": false
   },
   "outputs": [],
   "source": [
    "aggregator = {\"crs\": {\"type\": \"name\",\"properties\": {\"name\": \"EPSG:4326\"}},\"type\":\"FeatureCollection\",\"features\":[]}\n",
    "numfeat = 0\n",
    "for f in fileList:\n",
    "    with open(\"geoJson/\"+f, \"r\") as fp:\n",
    "        jsonFile = json.load(fp)\n",
    "    features = jsonFile['features']\n",
    "    numfeat += len(features)\n",
    "    for fe in features:\n",
    "        colname = f\n",
    "        colname = colname.replace(\"_fp.geojson\",\"\")\n",
    "        colname = colname.replace(\"fp.geojson\",\"no_collection\")\n",
    "        fe['properties']['collection'] = colname\n",
    "        lats = [g[1] for g in fe['geometry'][\"coordinates\"][0]]\n",
    "        lngs = [g[0] for g in fe['geometry'][\"coordinates\"][0]]\n",
    "        fe['properties']['lat_extent'] = max(lats) - min(lats)\n",
    "        fe['properties']['lng_extent'] = max(lngs) - min(lngs)\n",
    "    aggregator['features'].extend(features)"
   ]
  },
  {
   "cell_type": "code",
   "execution_count": 36,
   "metadata": {
    "collapsed": false
   },
   "outputs": [
    {
     "data": {
      "text/plain": [
       "471"
      ]
     },
     "execution_count": 36,
     "metadata": {},
     "output_type": "execute_result"
    }
   ],
   "source": [
    "numfeat"
   ]
  },
  {
   "cell_type": "code",
   "execution_count": 37,
   "metadata": {
    "collapsed": false
   },
   "outputs": [
    {
     "data": {
      "text/plain": [
       "471"
      ]
     },
     "execution_count": 37,
     "metadata": {},
     "output_type": "execute_result"
    }
   ],
   "source": [
    "len(aggregator['features'])"
   ]
  },
  {
   "cell_type": "code",
   "execution_count": 38,
   "metadata": {
    "collapsed": true
   },
   "outputs": [],
   "source": [
    "with open(\"geoJson/all_atlases.geojson\",\"w\") as fp:\n",
    "    json.dump(aggregator,fp,indent=2,sort_keys=True)"
   ]
  }
 ],
 "metadata": {
  "kernelspec": {
   "display_name": "Python 3",
   "language": "python",
   "name": "python3"
  },
  "language_info": {
   "codemirror_mode": {
    "name": "ipython",
    "version": 3
   },
   "file_extension": ".py",
   "mimetype": "text/x-python",
   "name": "python",
   "nbconvert_exporter": "python",
   "pygments_lexer": "ipython3",
   "version": "3.4.3"
  }
 },
 "nbformat": 4,
 "nbformat_minor": 0
}
